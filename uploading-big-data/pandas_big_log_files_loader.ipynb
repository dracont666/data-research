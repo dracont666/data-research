{
 "cells": [
  {
   "cell_type": "markdown",
   "id": "21870dab",
   "metadata": {},
   "source": [
    "With this script, you can upload large CSV log files to your laptop, about 50 GB in total."
   ]
  },
  {
   "cell_type": "code",
   "execution_count": null,
   "id": "506e3baf-8b4d-4602-993f-31649e643b51",
   "metadata": {},
   "outputs": [],
   "source": [
    "\"\"\"Import modules\"\"\"\n",
    "\n",
    "import pandas as pd\n",
    "import os, time\n"
   ]
  },
  {
   "cell_type": "code",
   "execution_count": null,
   "id": "4945f5d2-dd14-4b69-b415-8463d9fbd7e9",
   "metadata": {},
   "outputs": [],
   "source": [
    "\"\"\"Get a list of all files with a path in a folder\"\"\"\n",
    "\n",
    "def getListOfFiles(dirName):\n",
    "    listOfFile = os.listdir(dirName)\n",
    "    allFiles = list()\n",
    "    for entry in listOfFile:\n",
    "        fullPath = os.path.join(dirName, entry)\n",
    "        if os.path.isdir(fullPath):\n",
    "            allFiles = allFiles + getListOfFiles(fullPath)\n",
    "        else:\n",
    "            allFiles.append(fullPath)              \n",
    "    return allFiles\n",
    "\n",
    "\"\"\"Get a list of all filenames in a folder\"\"\"\n",
    "\n",
    "def clear_list(list_files):\n",
    "    new_list = []\n",
    "    for i in range(len(list_files)):\n",
    "        for j in range(len(list_files[i])):\n",
    "            if list_files[i][-j - 1] == '\\\\':\n",
    "                new_list.append(list_files[i][-j:])\n",
    "                break\n",
    "    return new_list\n"
   ]
  },
  {
   "cell_type": "code",
   "execution_count": null,
   "id": "b6b3bbc6-2f99-4399-87eb-ed5d179061d3",
   "metadata": {},
   "outputs": [],
   "source": [
    "\"\"\"Read filenames in folder\"\"\"\n",
    "\n",
    "mypath = r'...' # path like C:\\Program Files\\Common Files\n",
    "\n",
    "ListOfFiles = getListOfFiles(mypath)\n",
    "onlyfiles = clear_list(ListOfFiles)\n",
    "\n",
    "ListOfFiles"
   ]
  },
  {
   "cell_type": "markdown",
   "id": "42c38d24",
   "metadata": {},
   "source": [
    "Before loading, you can define the columns that need to be loaded. Don't load all columns unnecessarily.\n",
    "You can also define column types to optimize memory usage. For example, use Int16 instead of Int64 etc."
   ]
  },
  {
   "cell_type": "code",
   "execution_count": null,
   "id": "b06f8fd1-e8ac-417f-afe3-c3fe0bf35608",
   "metadata": {},
   "outputs": [],
   "source": [
    "\"\"\"File reading options\"\"\"\n",
    "\n",
    "# Tuple of loaded columns\n",
    "DF_COLS = (col1, col2,...)\n",
    "# Separator used in files .csv\n",
    "SEP = ','\n",
    "# The presence of quotes in the file\n",
    "QUOTECHAR = '\\\"'\n",
    "# The size of each chunk\n",
    "CHUNKSIZE = 100000\n",
    "# Column data types. \n",
    "DTYPE ={col1: 'Int16',\n",
    "        col2: 'Int64'}"
   ]
  },
  {
   "cell_type": "markdown",
   "id": "75be8e7d",
   "metadata": {},
   "source": [
    "To optimize memory usage, don’t load all temporary dataframes into a common dataframe in one cell. Use a temporary list and load all temporary dataframes into a list. After that concatenate all list items into a common dataframe"
   ]
  },
  {
   "cell_type": "code",
   "execution_count": null,
   "id": "b581fe46-4ac7-4008-9bee-a05dc50d4b4e",
   "metadata": {
    "tags": []
   },
   "outputs": [],
   "source": [
    "\"\"\"Uploading log files\"\"\"\n",
    "\n",
    "# Formation of an empty data set\n",
    "df_all = pd.DataFrame()#columns=DF_COLS)\n",
    "\n",
    "# Formation of a temporary list to optimize resources during loading\n",
    "load_list = []\n",
    "\n",
    "# Read log files and upload to list    \n",
    "for file in range(len(ListOfFiles)):\n",
    "    start = time.time()\n",
    "    chunk = pd.read_csv(ListOfFiles[file], sep=SEP, quotechar=QUOTECHAR, chunksize=CHUNKSIZE,\n",
    "                       usecols=DF_COLS, dtype=DTYPE)\n",
    "                   \n",
    "    temp_df = pd.concat(chunk)\n",
    "    temp_df.drop_duplicates(inplace=True)\n",
    "         \n",
    "    load_list.append(temp_df)\n",
    "    end = time.time()\n",
    "    print(f'{file + 1} file out of {len(ListOfFiles)}',\n",
    "          f'Elapsed time: {end - start}',\n",
    "          f'File name: {ListOfFiles[file]}',\n",
    "          '----------------------------', sep='\\n')\n"
   ]
  },
  {
   "cell_type": "code",
   "execution_count": null,
   "id": "5044ac32-32a0-4436-ae8e-f7dda95bb2b5",
   "metadata": {
    "jupyter": {
     "outputs_hidden": true
    },
    "tags": []
   },
   "outputs": [],
   "source": [
    "\"\"\"Loading data from the list and combining it into a common dataset\"\"\"\n",
    "\n",
    "for dataframe in range(len(load_list)):\n",
    "    start = time.time()\n",
    "\n",
    "    df_all = df_all.append(pd.DataFrame.from_dict(load_list[dataframe]))\n",
    "\n",
    "    end = time.time()\n",
    "\n",
    "    print(f'{dataframe + 1} file out of {len(load_list)}',\n",
    "          f'Elapsed time: {(end - start)}', sep='\\n')\n",
    "\n",
    "df_all.info()"
   ]
  },
  {
   "cell_type": "code",
   "execution_count": null,
   "id": "f3cda355-cca9-4950-87ed-1655e51f2067",
   "metadata": {},
   "outputs": [],
   "source": [
    "\"\"\"Removing temporary objects\"\"\"\n",
    "\n",
    "del(temp_df)\n",
    "del(load_list)\n"
   ]
  },
  {
   "cell_type": "code",
   "execution_count": null,
   "id": "7d4e2037-9b3e-4576-847d-d053cd7b69b9",
   "metadata": {
    "jupyter": {
     "outputs_hidden": true
    },
    "scrolled": false,
    "tags": []
   },
   "outputs": [],
   "source": [
    "\"\"\"Data ready for processing\"\"\"\n",
    "\n",
    "df_all.head(5)"
   ]
  }
 ],
 "metadata": {
  "kernelspec": {
   "display_name": "Python 3",
   "language": "python",
   "name": "python3"
  },
  "language_info": {
   "codemirror_mode": {
    "name": "ipython",
    "version": 3
   },
   "file_extension": ".py",
   "mimetype": "text/x-python",
   "name": "python",
   "nbconvert_exporter": "python",
   "pygments_lexer": "ipython3",
   "version": "3.8.8"
  }
 },
 "nbformat": 4,
 "nbformat_minor": 5
}
